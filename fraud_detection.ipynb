{
  "nbformat": 4,
  "nbformat_minor": 0,
  "metadata": {
    "colab": {
      "name": "Copy of transModeling.ipynb",
      "provenance": []
    },
    "kernelspec": {
      "name": "python3",
      "display_name": "Python 3"
    }
  },
  "cells": [
    {
      "cell_type": "code",
      "metadata": {
        "id": "CrWanPsGYZYU"
      },
      "source": [
        "! pip install -U imbalanced-learn \r\n",
        "## Install imblearn package as well will be needing that in code"
      ],
      "execution_count": null,
      "outputs": []
    },
    {
      "cell_type": "code",
      "metadata": {
        "id": "t50X7fFBtP9c",
        "colab": {
          "base_uri": "https://localhost:8080/"
        },
        "outputId": "6ecb8ea7-5196-4a8f-b999-396f225e876a"
      },
      "source": [
        "import numpy as np\r\n",
        "import pandas as pd\r\n",
        "import matplotlib.pyplot as plt\r\n",
        "from sklearn.model_selection import train_test_split\r\n",
        "from sklearn.preprocessing import KBinsDiscretizer as KD\r\n",
        "from sklearn.preprocessing import LabelEncoder\r\n",
        "from sklearn.ensemble import RandomForestClassifier\r\n",
        "from sklearn.linear_model import LogisticRegression\r\n",
        "from sklearn.metrics import accuracy_score, confusion_matrix, classification_report\r\n",
        "from collections import Counter\r\n",
        "## we need to first download the imblearn package \r\n",
        "from imblearn.over_sampling import BorderlineSMOTE, SMOTE, SVMSMOTE, SMOTENC "
      ],
      "execution_count": null,
      "outputs": [
        {
          "output_type": "stream",
          "text": [
            "/usr/local/lib/python3.6/dist-packages/sklearn/externals/six.py:31: FutureWarning: The module is deprecated in version 0.21 and will be removed in version 0.23 since we've dropped support for Python 2.7. Please rely on the official version of six (https://pypi.org/project/six/).\n",
            "  \"(https://pypi.org/project/six/).\", FutureWarning)\n",
            "/usr/local/lib/python3.6/dist-packages/sklearn/utils/deprecation.py:144: FutureWarning: The sklearn.neighbors.base module is  deprecated in version 0.22 and will be removed in version 0.24. The corresponding classes / functions should instead be imported from sklearn.neighbors. Anything that cannot be imported from sklearn.neighbors is now part of the private API.\n",
            "  warnings.warn(message, FutureWarning)\n"
          ],
          "name": "stderr"
        }
      ]
    },
    {
      "cell_type": "markdown",
      "metadata": {
        "id": "Eap2BHGVWYjs"
      },
      "source": [
        "# **Question 1: Load**\r\n",
        "\r\n",
        "*   Programmatically download and load into your favorite analytical tool the transactions data. This data, which is in line-delimited JSON format, can be found here.\r\n",
        "\r\n",
        "*   Please describe the structure of the data. Number of records and fields in each record?\r\n",
        "*   Please provide some additional basic summary statistics for each field. Be sure to include a count of null, minimum, maximum, and unique values where appropriate.\r\n",
        "\r\n",
        "\r\n"
      ]
    },
    {
      "cell_type": "code",
      "metadata": {
        "colab": {
          "base_uri": "https://localhost:8080/"
        },
        "id": "igxglS7rtXsA",
        "outputId": "f9a725f4-13bf-4187-b7f7-0aa671152d36"
      },
      "source": [
        " from google.colab import drive\r\n",
        "drive.mount('/content/drive')"
      ],
      "execution_count": null,
      "outputs": [
        {
          "output_type": "stream",
          "text": [
            "Drive already mounted at /content/drive; to attempt to forcibly remount, call drive.mount(\"/content/drive\", force_remount=True).\n"
          ],
          "name": "stdout"
        }
      ]
    },
    {
      "cell_type": "markdown",
      "metadata": {
        "id": "WOnYG2arYaL3"
      },
      "source": [
        "Programmatically download and load into your favorite analytical tool the transactions data. This data, which is in line-delimited JSON format, can be found here."
      ]
    },
    {
      "cell_type": "code",
      "metadata": {
        "id": "y5hfbGUTuDRV"
      },
      "source": [
        "df = pd.read_json('/content/drive/MyDrive/transactions.txt', lines = True)"
      ],
      "execution_count": null,
      "outputs": []
    },
    {
      "cell_type": "markdown",
      "metadata": {
        "id": "6ItT7v3KYI6S"
      },
      "source": [
        "Please describe the structure of the data. Number of records and fields in each record?\r\n",
        "\r\n",
        "There are 786363 records in total with 29 columns.\r\n",
        "\r\n",
        "Various Columns in the dataset are --\r\n",
        "Columns List = ['accountNumber', 'customerId', 'creditLimit', 'availableMoney',\r\n",
        "        'transactionDateTime', 'transactionAmount', 'merchantName',\r\n",
        "        'acqCountry', 'merchantCountryCode', 'posEntryMode', 'posConditionCode',\r\n",
        "        'merchantCategoryCode', 'currentExpDate', 'accountOpenDate',\r\n",
        "        'dateOfLastAddressChange', 'cardCVV', 'enteredCVV', 'cardLast4Digits',\r\n",
        "        'transactionType', 'echoBuffer', 'currentBalance', 'merchantCity',\r\n",
        "        'merchantState', 'merchantZip', 'cardPresent', 'posOnPremises',\r\n",
        "        'recurringAuthInd', 'expirationDateKeyInMatch', 'isFraud']"
      ]
    },
    {
      "cell_type": "code",
      "metadata": {
        "colab": {
          "base_uri": "https://localhost:8080/"
        },
        "id": "ELbZ_nusYILw",
        "outputId": "3a413337-6ed0-45a7-cb59-468348323362"
      },
      "source": [
        "df.shape, df.columns"
      ],
      "execution_count": null,
      "outputs": [
        {
          "output_type": "execute_result",
          "data": {
            "text/plain": [
              "((786363, 29),\n",
              " Index(['accountNumber', 'customerId', 'creditLimit', 'availableMoney',\n",
              "        'transactionDateTime', 'transactionAmount', 'merchantName',\n",
              "        'acqCountry', 'merchantCountryCode', 'posEntryMode', 'posConditionCode',\n",
              "        'merchantCategoryCode', 'currentExpDate', 'accountOpenDate',\n",
              "        'dateOfLastAddressChange', 'cardCVV', 'enteredCVV', 'cardLast4Digits',\n",
              "        'transactionType', 'echoBuffer', 'currentBalance', 'merchantCity',\n",
              "        'merchantState', 'merchantZip', 'cardPresent', 'posOnPremises',\n",
              "        'recurringAuthInd', 'expirationDateKeyInMatch', 'isFraud'],\n",
              "       dtype='object'))"
            ]
          },
          "metadata": {
            "tags": []
          },
          "execution_count": 5
        }
      ]
    },
    {
      "cell_type": "markdown",
      "metadata": {
        "id": "CGADcwj5Y5y0"
      },
      "source": [
        "Please provide some additional basic summary statistics for each field. Be sure to include a count of null, minimum, maximum, and unique values where appropriate.\r\n",
        "\r\n",
        "We can observe that in this particular dataset the missing values are represented as empty strings therefore, I planned to impute the entries which has missing values Below, I have in detail described the count of Null, NA, and empty strings in the dataset. Also, I have provided the basic statistics of all the columns which are numeric type.\r\n",
        "\r\n",
        "**Analysis-** There are 6 columns [echoBuffer, merchantCity, merchantState, merchantZip, posOnPremises, recurringAuthInd] where all records are empty strings, hence are of no use to us, so I will be dropping those columns from the dataset."
      ]
    },
    {
      "cell_type": "code",
      "metadata": {
        "colab": {
          "base_uri": "https://localhost:8080/"
        },
        "id": "9BZkjS4OYH3e",
        "outputId": "96da8a75-35c1-4050-9e03-a3d098f11800"
      },
      "source": [
        "print(\"Number of null values in the dataframe \\n\",df.isnull().sum())\r\n",
        "print(\"Number of NA entries in dataframe: \\n\", df.isna().sum())\r\n",
        "print(\"Number of empty strings in the dataframe \\n\",df.eq('').sum())\r\n"
      ],
      "execution_count": null,
      "outputs": [
        {
          "output_type": "stream",
          "text": [
            "Number of null values in the dataframe \n",
            " accountNumber               0\n",
            "customerId                  0\n",
            "creditLimit                 0\n",
            "availableMoney              0\n",
            "transactionDateTime         0\n",
            "transactionAmount           0\n",
            "merchantName                0\n",
            "acqCountry                  0\n",
            "merchantCountryCode         0\n",
            "posEntryMode                0\n",
            "posConditionCode            0\n",
            "merchantCategoryCode        0\n",
            "currentExpDate              0\n",
            "accountOpenDate             0\n",
            "dateOfLastAddressChange     0\n",
            "cardCVV                     0\n",
            "enteredCVV                  0\n",
            "cardLast4Digits             0\n",
            "transactionType             0\n",
            "echoBuffer                  0\n",
            "currentBalance              0\n",
            "merchantCity                0\n",
            "merchantState               0\n",
            "merchantZip                 0\n",
            "cardPresent                 0\n",
            "posOnPremises               0\n",
            "recurringAuthInd            0\n",
            "expirationDateKeyInMatch    0\n",
            "isFraud                     0\n",
            "dtype: int64\n",
            "Number of NA entries in dataframe: \n",
            " accountNumber               0\n",
            "customerId                  0\n",
            "creditLimit                 0\n",
            "availableMoney              0\n",
            "transactionDateTime         0\n",
            "transactionAmount           0\n",
            "merchantName                0\n",
            "acqCountry                  0\n",
            "merchantCountryCode         0\n",
            "posEntryMode                0\n",
            "posConditionCode            0\n",
            "merchantCategoryCode        0\n",
            "currentExpDate              0\n",
            "accountOpenDate             0\n",
            "dateOfLastAddressChange     0\n",
            "cardCVV                     0\n",
            "enteredCVV                  0\n",
            "cardLast4Digits             0\n",
            "transactionType             0\n",
            "echoBuffer                  0\n",
            "currentBalance              0\n",
            "merchantCity                0\n",
            "merchantState               0\n",
            "merchantZip                 0\n",
            "cardPresent                 0\n",
            "posOnPremises               0\n",
            "recurringAuthInd            0\n",
            "expirationDateKeyInMatch    0\n",
            "isFraud                     0\n",
            "dtype: int64\n",
            "Number of empty strings in the dataframe \n",
            " accountNumber                    0\n",
            "customerId                       0\n",
            "creditLimit                      0\n",
            "availableMoney                   0\n",
            "transactionDateTime              0\n",
            "transactionAmount                0\n",
            "merchantName                     0\n",
            "acqCountry                    4562\n",
            "merchantCountryCode            724\n",
            "posEntryMode                  4054\n",
            "posConditionCode               409\n",
            "merchantCategoryCode             0\n",
            "currentExpDate                   0\n",
            "accountOpenDate                  0\n",
            "dateOfLastAddressChange          0\n",
            "cardCVV                          0\n",
            "enteredCVV                       0\n",
            "cardLast4Digits                  0\n",
            "transactionType                698\n",
            "echoBuffer                  786363\n",
            "currentBalance                   0\n",
            "merchantCity                786363\n",
            "merchantState               786363\n",
            "merchantZip                 786363\n",
            "cardPresent                      0\n",
            "posOnPremises               786363\n",
            "recurringAuthInd            786363\n",
            "expirationDateKeyInMatch         0\n",
            "isFraud                          0\n",
            "dtype: int64\n"
          ],
          "name": "stdout"
        }
      ]
    },
    {
      "cell_type": "code",
      "metadata": {
        "colab": {
          "base_uri": "https://localhost:8080/",
          "height": 284
        },
        "id": "n18pPlaAYHnA",
        "outputId": "a110bb1c-84f5-41d7-eaa1-924347854bd9"
      },
      "source": [
        "# Basic Statistics for the Transaction dataset\r\n",
        "df.describe()"
      ],
      "execution_count": null,
      "outputs": [
        {
          "output_type": "execute_result",
          "data": {
            "text/html": [
              "<div>\n",
              "<style scoped>\n",
              "    .dataframe tbody tr th:only-of-type {\n",
              "        vertical-align: middle;\n",
              "    }\n",
              "\n",
              "    .dataframe tbody tr th {\n",
              "        vertical-align: top;\n",
              "    }\n",
              "\n",
              "    .dataframe thead th {\n",
              "        text-align: right;\n",
              "    }\n",
              "</style>\n",
              "<table border=\"1\" class=\"dataframe\">\n",
              "  <thead>\n",
              "    <tr style=\"text-align: right;\">\n",
              "      <th></th>\n",
              "      <th>accountNumber</th>\n",
              "      <th>customerId</th>\n",
              "      <th>creditLimit</th>\n",
              "      <th>availableMoney</th>\n",
              "      <th>transactionAmount</th>\n",
              "      <th>cardCVV</th>\n",
              "      <th>enteredCVV</th>\n",
              "      <th>cardLast4Digits</th>\n",
              "      <th>currentBalance</th>\n",
              "    </tr>\n",
              "  </thead>\n",
              "  <tbody>\n",
              "    <tr>\n",
              "      <th>count</th>\n",
              "      <td>7.863630e+05</td>\n",
              "      <td>7.863630e+05</td>\n",
              "      <td>786363.000000</td>\n",
              "      <td>786363.000000</td>\n",
              "      <td>786363.000000</td>\n",
              "      <td>786363.000000</td>\n",
              "      <td>786363.000000</td>\n",
              "      <td>786363.000000</td>\n",
              "      <td>786363.000000</td>\n",
              "    </tr>\n",
              "    <tr>\n",
              "      <th>mean</th>\n",
              "      <td>5.372326e+08</td>\n",
              "      <td>5.372326e+08</td>\n",
              "      <td>10759.464459</td>\n",
              "      <td>6250.725369</td>\n",
              "      <td>136.985791</td>\n",
              "      <td>544.467338</td>\n",
              "      <td>544.183857</td>\n",
              "      <td>4757.417799</td>\n",
              "      <td>4508.739089</td>\n",
              "    </tr>\n",
              "    <tr>\n",
              "      <th>std</th>\n",
              "      <td>2.554211e+08</td>\n",
              "      <td>2.554211e+08</td>\n",
              "      <td>11636.174890</td>\n",
              "      <td>8880.783989</td>\n",
              "      <td>147.725569</td>\n",
              "      <td>261.524220</td>\n",
              "      <td>261.551254</td>\n",
              "      <td>2996.583810</td>\n",
              "      <td>6457.442068</td>\n",
              "    </tr>\n",
              "    <tr>\n",
              "      <th>min</th>\n",
              "      <td>1.000881e+08</td>\n",
              "      <td>1.000881e+08</td>\n",
              "      <td>250.000000</td>\n",
              "      <td>-1005.630000</td>\n",
              "      <td>0.000000</td>\n",
              "      <td>100.000000</td>\n",
              "      <td>0.000000</td>\n",
              "      <td>0.000000</td>\n",
              "      <td>0.000000</td>\n",
              "    </tr>\n",
              "    <tr>\n",
              "      <th>25%</th>\n",
              "      <td>3.301333e+08</td>\n",
              "      <td>3.301333e+08</td>\n",
              "      <td>5000.000000</td>\n",
              "      <td>1077.420000</td>\n",
              "      <td>33.650000</td>\n",
              "      <td>310.000000</td>\n",
              "      <td>310.000000</td>\n",
              "      <td>2178.000000</td>\n",
              "      <td>689.910000</td>\n",
              "    </tr>\n",
              "    <tr>\n",
              "      <th>50%</th>\n",
              "      <td>5.074561e+08</td>\n",
              "      <td>5.074561e+08</td>\n",
              "      <td>7500.000000</td>\n",
              "      <td>3184.860000</td>\n",
              "      <td>87.900000</td>\n",
              "      <td>535.000000</td>\n",
              "      <td>535.000000</td>\n",
              "      <td>4733.000000</td>\n",
              "      <td>2451.760000</td>\n",
              "    </tr>\n",
              "    <tr>\n",
              "      <th>75%</th>\n",
              "      <td>7.676200e+08</td>\n",
              "      <td>7.676200e+08</td>\n",
              "      <td>15000.000000</td>\n",
              "      <td>7500.000000</td>\n",
              "      <td>191.480000</td>\n",
              "      <td>785.000000</td>\n",
              "      <td>785.000000</td>\n",
              "      <td>7338.000000</td>\n",
              "      <td>5291.095000</td>\n",
              "    </tr>\n",
              "    <tr>\n",
              "      <th>max</th>\n",
              "      <td>9.993896e+08</td>\n",
              "      <td>9.993896e+08</td>\n",
              "      <td>50000.000000</td>\n",
              "      <td>50000.000000</td>\n",
              "      <td>2011.540000</td>\n",
              "      <td>998.000000</td>\n",
              "      <td>998.000000</td>\n",
              "      <td>9998.000000</td>\n",
              "      <td>47498.810000</td>\n",
              "    </tr>\n",
              "  </tbody>\n",
              "</table>\n",
              "</div>"
            ],
            "text/plain": [
              "       accountNumber    customerId  ...  cardLast4Digits  currentBalance\n",
              "count   7.863630e+05  7.863630e+05  ...    786363.000000   786363.000000\n",
              "mean    5.372326e+08  5.372326e+08  ...      4757.417799     4508.739089\n",
              "std     2.554211e+08  2.554211e+08  ...      2996.583810     6457.442068\n",
              "min     1.000881e+08  1.000881e+08  ...         0.000000        0.000000\n",
              "25%     3.301333e+08  3.301333e+08  ...      2178.000000      689.910000\n",
              "50%     5.074561e+08  5.074561e+08  ...      4733.000000     2451.760000\n",
              "75%     7.676200e+08  7.676200e+08  ...      7338.000000     5291.095000\n",
              "max     9.993896e+08  9.993896e+08  ...      9998.000000    47498.810000\n",
              "\n",
              "[8 rows x 9 columns]"
            ]
          },
          "metadata": {
            "tags": []
          },
          "execution_count": 7
        }
      ]
    },
    {
      "cell_type": "markdown",
      "metadata": {
        "id": "OAEKzJy1a9H-"
      },
      "source": [
        "Dropping columns where all the records are empty string."
      ]
    },
    {
      "cell_type": "code",
      "metadata": {
        "id": "hmnjHZN1vOFr"
      },
      "source": [
        "df_copy = df.drop(['echoBuffer', 'merchantCity', 'merchantState', 'merchantZip', 'posOnPremises', 'recurringAuthInd'], axis=1)"
      ],
      "execution_count": null,
      "outputs": []
    },
    {
      "cell_type": "markdown",
      "metadata": {
        "id": "tUamG2gAbD4H"
      },
      "source": [
        "# **Question 2: Plot**\r\n",
        "\r\n",
        "\r\n",
        "*   Plot a histogram of the processed amounts of each transaction, the transactionAmount column.\r\n",
        "\r\n",
        "*   Report any structure you find and any hypotheses you have about that structure.\r\n",
        "\r\n"
      ]
    },
    {
      "cell_type": "code",
      "metadata": {
        "colab": {
          "base_uri": "https://localhost:8080/",
          "height": 337
        },
        "id": "eN3FHvTIiTrO",
        "outputId": "55742bea-257d-4ee4-e219-f9a8be7df420"
      },
      "source": [
        "df_copy['transactionAmount'].plot(kind = 'hist', figsize = (16,5), bins= 50 )"
      ],
      "execution_count": null,
      "outputs": [
        {
          "output_type": "execute_result",
          "data": {
            "text/plain": [
              "<matplotlib.axes._subplots.AxesSubplot at 0x7f0fcd8d2080>"
            ]
          },
          "metadata": {
            "tags": []
          },
          "execution_count": 9
        },
        {
          "output_type": "display_data",
          "data": {
            "image/png": "[encoded data removed]",
            "text/plain": [
              "<Figure size 1152x360 with 1 Axes>"
            ]
          },
          "metadata": {
            "tags": [],
            "needs_background": "light"
          }
        }
      ]
    },
    {
      "cell_type": "code",
      "metadata": {
        "colab": {
          "base_uri": "https://localhost:8080/",
          "height": 475
        },
        "id": "82SA3sGfbWqY",
        "outputId": "29a67e7a-ec87-47ad-d567-f3170fd1d597"
      },
      "source": [
        "df_f = df_copy[df_copy.isFraud == True]\r\n",
        "df_nf = df_copy[df_copy.isFraud == False]\r\n",
        "df_f['transactionAmount'].plot(kind = 'hist', figsize = (16,5), bins= 50, alpha = 0.2, logy = True, logx = True)\r\n",
        "df_nf['transactionAmount'].plot(kind = 'hist', figsize = (16,5), bins= 50, alpha = 0.2, logy = True, logx= True)\r\n",
        "### Rightly skewed plot for the transactionAmount\r\n",
        "print(df_copy.transactionAmount.describe())"
      ],
      "execution_count": null,
      "outputs": [
        {
          "output_type": "stream",
          "text": [
            "count    786363.000000\n",
            "mean        136.985791\n",
            "std         147.725569\n",
            "min           0.000000\n",
            "25%          33.650000\n",
            "50%          87.900000\n",
            "75%         191.480000\n",
            "max        2011.540000\n",
            "Name: transactionAmount, dtype: float64\n"
          ],
          "name": "stdout"
        },
        {
          "output_type": "display_data",
          "data": {
            "image/png": "[encoded data removed]",
            "text/plain": [
              "<Figure size 1152x360 with 1 Axes>"
            ]
          },
          "metadata": {
            "tags": [],
            "needs_background": "light"
          }
        }
      ]
    },
    {
      "cell_type": "code",
      "metadata": {
        "colab": {
          "base_uri": "https://localhost:8080/",
          "height": 572
        },
        "id": "maFwKyJybWoc",
        "outputId": "06dc29b5-6558-40a6-b70d-d1b8bbe60bfb"
      },
      "source": [
        "bin = KD(n_bins=4, encode='ordinal', strategy='quantile')\r\n",
        "transBinned = np.array(df_copy['transactionAmount']).reshape(-1,1)\r\n",
        "bin.fit(transBinned)\r\n",
        "df_copy['transBinned'] = bin.transform(transBinned)\r\n",
        "df_f = df_copy[df_copy.isFraud == True]\r\n",
        "df_nf = df_copy[df_copy.isFraud == False]\r\n",
        "print(\"Cases where there is Fraud  ----\\n\",\r\n",
        "      df_copy[df_copy.isFraud == True].groupby('transBinned').agg({'isFraud':'count'}))\r\n",
        "print(\"Cases where there is NO Fraud  ----\\n\",\r\n",
        "      df_copy[df_copy.isFraud == False].groupby('transBinned').agg({'isFraud':'count'}))\r\n",
        "df_f['transBinned'].plot(kind = 'hist', figsize = (16,5), bins= 50, alpha = 0.9)\r\n",
        "df_nf['transBinned'].plot(kind = 'hist', figsize = (16,5), bins= 50, alpha = 0.2)"
      ],
      "execution_count": null,
      "outputs": [
        {
          "output_type": "stream",
          "text": [
            "Cases where there is Fraud  ----\n",
            "              isFraud\n",
            "transBinned         \n",
            "0.0             1106\n",
            "1.0             2058\n",
            "2.0             3455\n",
            "3.0             5798\n",
            "Cases where there is NO Fraud  ----\n",
            "              isFraud\n",
            "transBinned         \n",
            "0.0           195412\n",
            "1.0           194579\n",
            "2.0           193154\n",
            "3.0           190801\n"
          ],
          "name": "stdout"
        },
        {
          "output_type": "execute_result",
          "data": {
            "text/plain": [
              "<matplotlib.axes._subplots.AxesSubplot at 0x7f0fcd465c50>"
            ]
          },
          "metadata": {
            "tags": []
          },
          "execution_count": 11
        },
        {
          "output_type": "display_data",
          "data": {
            "image/png": "[encoded data removed]",
            "text/plain": [
              "<Figure size 1152x360 with 1 Axes>"
            ]
          },
          "metadata": {
            "tags": [],
            "needs_background": "light"
          }
        }
      ]
    },
    {
      "cell_type": "markdown",
      "metadata": {
        "id": "CIF7z-6obpAq"
      },
      "source": [
        "Report any structure you find and any hypotheses you have about that structure.\r\n",
        "\r\n",
        "-- We observe that the Transaction Amount is rightly skewed as majority of the transactions are between the mean and the first two standard deviatiosn. We will now observe how does the TransactionAmount affects the Fraud vs NonFraud classification. \r\n",
        "\r\n",
        "**First Plot --** We observe that the plot for the TransactionAmount columns is rightly skewed. As I observed that the transaction is exponential in nature, I plotted another variation to observe the plot in the linear scale along with Fraud and Non Fraud Classes.\r\n",
        "\r\n",
        "**Second Plot --**  We observe the Transaction Amount in a linear scale and observed that both Fraud and Non-Fraud cases are of same nature for the complete set of Transactions. So, I binned the Transaction Amount in 4 bins as per the quantile range and then observe the Fraud and Non-Fraud Classes.\r\n",
        "\r\n",
        "**Third Plot --** I have used KBinsDiscretizer for binning TransactionAmount and observe the class variables. We observed that the Non-Fraud Cases for all 4 bins are significantly similar, but the Fraud Cases are maximum for the 4th bin and minimum for the 1st bin. So, moving forward we will be using the binned value Transaction Amount instead of the real Transaction Amounts as the binned groupings are more descriptive about the nature of variation of Fraud and Non-Fraud cases with respect to the Transaction Amount\r\n"
      ]
    },
    {
      "cell_type": "markdown",
      "metadata": {
        "id": "HbyLAA0-lWjf"
      },
      "source": [
        "# Question 3: Data Wrangling - Duplicate Transactions\r\n",
        "\r\n",
        "You will notice a number of what look like duplicated transactions in the data set. One type of duplicated transaction is a reversed transaction, where a purchase is followed by a reversal. Another example is a multi-swipe, where a vendor accidentally charges a customer's card multiple times within a short time span.\r\n",
        "\r\n",
        "*   Can you programmatically identify reversed and multi-swipe transactions?\r\n",
        "\r\n",
        "> For identifying the reversed Transaction, I obsereved that we can filter out the reverse transaction by using TransactionType = 'Reversal'. Also such Transactions also have a 'Purchase' TransactionType as well. And hence I have considered them as duplicate in nature and dropped them.\r\n",
        "\r\n",
        "\r\n",
        "> For multiswiped transactions, as per my understanding they are usually caused due to the transaction failures, so I have sorted the dataframe on the basis of TransactionDateTime, and then applied grouping on CustomerId, TransactionAmount,and filtered all those transaction which have similar CustomerId, TransactionAmount and have occured within 120seconds after the previous transaction. As the data is sorted by time, I have calculated the time difference and filtered all those Transactions which have occurred within 120 seconds. Since we set True values to the multiSwiped Transactions, so we can filter the dataframe accordingly.\r\n",
        "\r\n",
        "\r\n",
        "*   What total number of transactions and total dollar amount do you estimate for the reversed transactions? For the multi-swipe transactions? (please consider the first transaction to be \"normal\" and exclude it from the number of transaction and dollar amount counts)\r\n",
        "\r\n",
        "> total number of transactions that are reversed are - 20303 records\r\n",
        "\r\n",
        "> total dollar amount do you estimate for the reversed transactions : 2821792.5\r\n",
        "\r\n",
        ">  total number of transactions that are multiSwiped are - 5188 records\r\n",
        "\r\n",
        "> total dollar amount do you estimate for the multi swiped transactions - 749167.39.\r\n",
        "\r\n",
        "*   Did you find anything interesting about either kind of transaction?\r\n",
        "\r\n",
        "> Both of these kinds of transactions represents noise and duplicacy in our dataset and we will be removing them moving forward, I also observed the distribution of Fraud vs Non-Fraud in both the cases but both of them are significant with numnber of fraud and non-fraud cases\r\n",
        "\r\n",
        "\r\n"
      ]
    },
    {
      "cell_type": "code",
      "metadata": {
        "colab": {
          "base_uri": "https://localhost:8080/"
        },
        "id": "F6Cb7_4htY-4",
        "outputId": "fb813213-1942-47f5-d5a0-cd754f133b80"
      },
      "source": [
        "### Reversed Transactions \r\n",
        "df_reversed = pd.DataFrame(df_copy[df_copy.transactionType == 'REVERSAL'])\r\n",
        "i = df_copy[df_copy.transactionType == 'REVERSAL'].index\r\n",
        "print(\"Total dollar amount do you estimate for the reversed transactions\\n\",df_reversed.transactionAmount.sum())\r\n",
        "print(\"Total number of transactions that are reversed are\\n\",len(i))\r\n",
        "df_copy = df_copy.drop(i)"
      ],
      "execution_count": null,
      "outputs": [
        {
          "output_type": "stream",
          "text": [
            "Total dollar amount do you estimate for the reversed transactions\n",
            " 2821792.5\n",
            "Total number of transactions that are reversed are\n",
            " 20303\n"
          ],
          "name": "stdout"
        }
      ]
    },
    {
      "cell_type": "code",
      "metadata": {
        "id": "NGadPtWUuqvq"
      },
      "source": [
        "df_copy['transactionDateTime'] = pd.to_datetime(df_copy.transactionDateTime)\r\n",
        "df_copy = df_copy.sort_values('transactionDateTime')\r\n",
        "df_copy['mutliSwipedTransaction'] = df_copy.groupby(['customerId','transactionAmount']).transactionDateTime.diff().abs().dt.seconds.le(120)\r\n"
      ],
      "execution_count": null,
      "outputs": []
    },
    {
      "cell_type": "code",
      "metadata": {
        "colab": {
          "base_uri": "https://localhost:8080/"
        },
        "id": "LhTdysPjV9m4",
        "outputId": "3ae67f17-b62b-45a5-dbdc-eec407648a89"
      },
      "source": [
        "print(\"Total dollar amount do you estimate for the multiSwiped transactions\\n\",df_copy[df_copy.mutliSwipedTransaction == True].transactionAmount.sum())\r\n",
        "print(\"Total number of transactions that are multiSwiped are\\n\",df_copy.mutliSwipedTransaction.sum())"
      ],
      "execution_count": null,
      "outputs": [
        {
          "output_type": "stream",
          "text": [
            "Total dollar amount do you estimate for the multiSwiped transactions\n",
            " 749167.39\n",
            "Total number of transactions that are multiSwiped are\n",
            " 5188\n"
          ],
          "name": "stdout"
        }
      ]
    },
    {
      "cell_type": "code",
      "metadata": {
        "colab": {
          "base_uri": "https://localhost:8080/"
        },
        "id": "8ZAVbHTE4RbC",
        "outputId": "e106fde7-1bde-4ded-ffae-eab3c8dde300"
      },
      "source": [
        "## We will bw removing all the transactions which are multiSwiped transactions from our dataset.\r\n",
        "df_copy = df_copy[df_copy.mutliSwipedTransaction == False]\r\n",
        "df_copy.shape"
      ],
      "execution_count": null,
      "outputs": [
        {
          "output_type": "execute_result",
          "data": {
            "text/plain": [
              "(760872, 25)"
            ]
          },
          "metadata": {
            "tags": []
          },
          "execution_count": 15
        }
      ]
    },
    {
      "cell_type": "markdown",
      "metadata": {
        "id": "Lp99oVrb0jQP"
      },
      "source": [
        "Moving forward with the dataset, we have removed all the records which are duplicate transactions, by duplicacy, we mean the reversed and the multiple swiped transactions are being removed from the dataset and we are left with 760872 records"
      ]
    },
    {
      "cell_type": "markdown",
      "metadata": {
        "id": "3UEciTmf2JXQ"
      },
      "source": [
        "# **Question 4: Model**\r\n",
        "Fraud is a problem for any bank. Fraud can take many forms, whether it is someone stealing a single credit card, to large batches of stolen credit card numbers being used on the web, or even a mass compromise of credit card numbers stolen from a merchant via tools like credit card skimming devices.\r\n",
        "\r\n",
        "* Each of the transactions in the dataset has a field called isFraud. Please build a predictive model to determine whether a given transaction will be fraudulent or not. Use as much of the data as you like (or all of it).\r\n",
        "\r\n",
        "* Provide an estimate of performance using an appropriate sample, and show your work.\r\n",
        "\r\n",
        "* Please explain your methodology (modeling algorithm/method used and why, what features/data you found useful, what questions you have, and what you would do next with more time"
      ]
    },
    {
      "cell_type": "code",
      "metadata": {
        "colab": {
          "base_uri": "https://localhost:8080/"
        },
        "id": "NqRQSZL82aiF",
        "outputId": "53fa2811-db94-4a57-d10e-ecaf39c724e7"
      },
      "source": [
        "df_copy.isFraud.sum()/df_copy.shape[0]*100"
      ],
      "execution_count": null,
      "outputs": [
        {
          "output_type": "execute_result",
          "data": {
            "text/plain": [
              "1.5776635229052982"
            ]
          },
          "metadata": {
            "tags": []
          },
          "execution_count": 16
        }
      ]
    },
    {
      "cell_type": "markdown",
      "metadata": {
        "id": "2ufRDN7L65xa"
      },
      "source": [
        "We can observe that it's a classical Imbalance Problem as the dataset contains only 1.57% records, which has isFraud = True, i.e in the given dataset the dominant class is isFraud = False. \r\n",
        "\r\n",
        "We will be using various techniques wherein we will be handling the Class Imbalance problem and try to achieve the desired results."
      ]
    },
    {
      "cell_type": "markdown",
      "metadata": {
        "id": "E3DcjHdg7XyQ"
      },
      "source": [
        "# **Feature Engineering**\r\n",
        "\r\n",
        "We will analyze various features in the dataset and transfrom that accordingly based on the observations"
      ]
    },
    {
      "cell_type": "markdown",
      "metadata": {
        "id": "TFPvK_hBTJ_6"
      },
      "source": [
        "Extracting Features from the data --- transactionDateTime\r\n",
        "We tried to observe the effect of transactionDateTime on isFraud.\r\n",
        "\r\n",
        "We observed that we considered 'hour' of transaction. We have plotted both the cases Fraud and Non-Fraud cases.\r\n",
        "\r\n",
        "Observation 1 - We observe that for Non-Fraud the curve is sinosoidal in nature. That is the non fraud cases are consistent with respect to the transaction hour.\r\n",
        "\r\n",
        "Observation 2 - When we observed for cases with Fraud, we see a trend that there are significant more number of Fraud cases from time range of 8-12. \r\n",
        "\r\n",
        "Assumption - We plan to use the binned value of transactionDateTime i.e [0-23] and move forward with transactionHour Feature instead of transactionDateTime feature."
      ]
    },
    {
      "cell_type": "code",
      "metadata": {
        "colab": {
          "base_uri": "https://localhost:8080/",
          "height": 298
        },
        "id": "-IKOEybDmJda",
        "outputId": "02157321-b2ff-4f62-e667-8659559c3368"
      },
      "source": [
        "df_copy['transactionDateTime'] = pd.to_datetime(df_copy.transactionDateTime)\r\n",
        "df_copy['transactionHour'] = df_copy.transactionDateTime.dt.hour\r\n",
        "df_transHour_f = df_copy[df_copy.isFraud == True]\r\n",
        "df_transHour_nf = df_copy[df_copy.isFraud == False]\r\n",
        "df_transHour_nf['transactionHour'].plot(kind='density', subplots = (1,2))\r\n",
        "df_transHour_f['transactionHour'].plot(kind = 'density', subplots = (2,2))"
      ],
      "execution_count": null,
      "outputs": [
        {
          "output_type": "execute_result",
          "data": {
            "text/plain": [
              "array([<matplotlib.axes._subplots.AxesSubplot object at 0x7f0fcd4efeb8>],\n",
              "      dtype=object)"
            ]
          },
          "metadata": {
            "tags": []
          },
          "execution_count": 17
        },
        {
          "output_type": "display_data",
          "data": {
            "image/png": "[encoded data removed]",
            "text/plain": [
              "<Figure size 432x288 with 1 Axes>"
            ]
          },
          "metadata": {
            "tags": [],
            "needs_background": "light"
          }
        }
      ]
    },
    {
      "cell_type": "code",
      "metadata": {
        "id": "EddGzFN4ptsC"
      },
      "source": [
        "## Binning for TransactionDateTime feature\r\n",
        "bin = KD(n_bins=5, encode='ordinal', strategy='uniform')\r\n",
        "transHour = np.array(df_copy['transactionHour']).reshape(-1,1)\r\n",
        "bin.fit(transHour)\r\n",
        "df_copy['hourBinned'] = bin.transform(transHour)"
      ],
      "execution_count": null,
      "outputs": []
    },
    {
      "cell_type": "markdown",
      "metadata": {
        "id": "Xvmp8PxewO6v"
      },
      "source": [
        "**Feature 2 -- Credit Limit**\r\n",
        "\r\n",
        "With Taking CreditLimit into consideration we don't see a significant difference between the Fraud and Non-fraud cases distribution. Both the plots have significant similar spikes. So, I have used credit limit the way it is."
      ]
    },
    {
      "cell_type": "code",
      "metadata": {
        "colab": {
          "base_uri": "https://localhost:8080/",
          "height": 337
        },
        "id": "raXHLNlK4dyx",
        "outputId": "f51019ed-6e26-46ef-ff7b-a9a041791a8f"
      },
      "source": [
        "df_nf['creditLimit'].plot(kind= 'hist', bins = 20, figsize = (16,5), alpha = 0.3)\r\n",
        "df_f['creditLimit'].plot(kind= 'hist', bins = 20, figsize = (16,5))"
      ],
      "execution_count": null,
      "outputs": [
        {
          "output_type": "execute_result",
          "data": {
            "text/plain": [
              "<matplotlib.axes._subplots.AxesSubplot at 0x7f0fcd6795c0>"
            ]
          },
          "metadata": {
            "tags": []
          },
          "execution_count": 19
        },
        {
          "output_type": "display_data",
          "data": {
            "image/png": "[encoded data removed]",
            "text/plain": [
              "<Figure size 1152x360 with 1 Axes>"
            ]
          },
          "metadata": {
            "tags": [],
            "needs_background": "light"
          }
        }
      ]
    },
    {
      "cell_type": "markdown",
      "metadata": {
        "id": "jX64tSlo-GvM"
      },
      "source": [
        "**Feature - Merchant Name and MerchantCategoryCode**\r\n",
        "\r\n",
        "There are 1042 different merchantName and 13 merchant category codes. But we see the top 10 merchants have significantly high number of Fraud cases. Therefore, I have planned to group the merchantName and merchant category code other than the top 10 as 'others' and used them."
      ]
    },
    {
      "cell_type": "code",
      "metadata": {
        "colab": {
          "base_uri": "https://localhost:8080/"
        },
        "id": "_QEE5A4yk5KQ",
        "outputId": "c53861e0-9b48-42ae-90a2-e710f5f3aa52"
      },
      "source": [
        "## For merchant Name I plan to  keep the top 10 merchants\r\n",
        "temp = df_copy[df_copy.isFraud == True].groupby(by = ['merchantName']).agg({'isFraud':'count'}).sort_values(by = 'isFraud',ascending=False)\r\n",
        "print(\"Merchant Names sorted by isFraud Cases number\\n\",temp)\r\n",
        "\r\n",
        "d = {}  ## Mapping Dictionary for keep top 10 and rest all map to 'others' as merchantName\r\n",
        "for i in temp.index.to_list()[:10]:\r\n",
        "  d[i] = i\r\n",
        "df_copy['merchantMapped'] = df_copy['merchantName'].apply(lambda x: d.get(x,'others'))"
      ],
      "execution_count": null,
      "outputs": [
        {
          "output_type": "stream",
          "text": [
            "Merchant Names sorted by isFraud Cases number\n",
            "                       isFraud\n",
            "merchantName                 \n",
            "Lyft                      731\n",
            "ebay.com                  621\n",
            "Fresh Flowers             538\n",
            "Uber                      501\n",
            "walmart.com               427\n",
            "...                       ...\n",
            "Quizno's #326636            1\n",
            "Quizno's #311602            1\n",
            "Quizno's #235427            1\n",
            "Quizno's #230127            1\n",
            "Krispy Kreme #122012        1\n",
            "\n",
            "[1042 rows x 1 columns]\n"
          ],
          "name": "stdout"
        }
      ]
    },
    {
      "cell_type": "code",
      "metadata": {
        "colab": {
          "base_uri": "https://localhost:8080/"
        },
        "id": "1lTxB_6NaC-D",
        "outputId": "f92477c8-de28-4565-fae7-72284cec1a60"
      },
      "source": [
        "temp = df_copy[df_copy.isFraud == True].groupby(by = ['merchantCategoryCode']).agg({'isFraud':'count'}).sort_values(by = 'isFraud',ascending=False)\r\n",
        "print(\"Merchant Category Codes sorted by isFraud Cases number\\n\",temp)\r\n",
        "d = {}\r\n",
        "for i in temp.index.to_list()[:10]:\r\n",
        "  d[i] = i\r\n",
        "df_copy['merchantCategoryMapped'] = df_copy['merchantCategoryCode'].apply(lambda x: d.get(x,'others'))"
      ],
      "execution_count": null,
      "outputs": [
        {
          "output_type": "stream",
          "text": [
            "Merchant Category Codes sorted by isFraud Cases number\n",
            "                       isFraud\n",
            "merchantCategoryCode         \n",
            "online_retail            4779\n",
            "online_gifts             1554\n",
            "rideshare                1232\n",
            "fastfood                 1037\n",
            "food                      984\n",
            "entertainment             920\n",
            "airline                   509\n",
            "auto                      266\n",
            "hotels                    244\n",
            "subscriptions             209\n",
            "furniture                 100\n",
            "health                     88\n",
            "personal care              82\n"
          ],
          "name": "stdout"
        }
      ]
    },
    {
      "cell_type": "markdown",
      "metadata": {
        "id": "4vuzB89ZAQbQ"
      },
      "source": [
        "**Feature PurchaseType** -\r\n",
        "\r\n",
        "As we have removed the purchaseType = Reversal, we are left with PURCHASE and ADDRESS_VERIFICATION, as two feature type. However, I observed that there were several empty strings in the purchase_type, so instead of dropping those records and loosing information, I decided to impute empty string with 'others'.              "
      ]
    },
    {
      "cell_type": "code",
      "metadata": {
        "colab": {
          "base_uri": "https://localhost:8080/"
        },
        "id": "DylNCQoWKLjw",
        "outputId": "5d4a210e-082f-4282-b026-f61787775a88"
      },
      "source": [
        "temp = df_copy[df_copy.isFraud == True].groupby(by = 'transactionType').agg({'isFraud':'count'}).sort_values(by = 'isFraud',ascending=False)\r\n",
        "print(df_copy[df_copy.isFraud == False].groupby(by = 'transactionType').agg({'isFraud':'count'}).sort_values(by = 'isFraud',ascending=False))\r\n",
        "\r\n",
        "#Impute the null values with type = \"others\"\r\n",
        "d = {}\r\n",
        "for i in temp.index.to_list()[:10]:\r\n",
        "  if i is \"\":\r\n",
        "    d[i] = 'others'\r\n",
        "  else:\r\n",
        "    d[i] = i\r\n",
        "df_copy['transactionType'] = df_copy['transactionType'].apply(lambda x: d.get(x,'others'))"
      ],
      "execution_count": null,
      "outputs": [
        {
          "output_type": "stream",
          "text": [
            "                      isFraud\n",
            "transactionType              \n",
            "PURCHASE               728293\n",
            "ADDRESS_VERIFICATION    19899\n",
            "                          676\n"
          ],
          "name": "stdout"
        }
      ]
    },
    {
      "cell_type": "markdown",
      "metadata": {
        "id": "ALUbURmAA2hA"
      },
      "source": [
        "**Feature accountOpenDate and currentExpDate** - \r\n",
        "With an assumption that old cards are more prone to Fraud due to less secure features, I have computed the length of the account instead of using this two features, with an understanding that more the lenght of accound will be, there is a significant chance of a fraudulent case"
      ]
    },
    {
      "cell_type": "code",
      "metadata": {
        "id": "2t1kzDieKmaU"
      },
      "source": [
        "df_copy['accountOpenDate']=pd.to_datetime(df_copy['accountOpenDate'])\r\n",
        "df_copy['accountOpenDate'] = df_copy.accountOpenDate.dt.year\r\n",
        "df_copy['currentExpDate'] = pd.to_datetime(df_copy['currentExpDate'])\r\n",
        "df_copy['currentExpDate'] = df_copy.currentExpDate.dt.year\r\n",
        "df_copy['accountLenght'] = (df_copy.currentExpDate - df_copy.accountOpenDate)"
      ],
      "execution_count": null,
      "outputs": []
    },
    {
      "cell_type": "markdown",
      "metadata": {
        "id": "IojjZEVqBsHv"
      },
      "source": [
        "**Feature cardCVV and enteredCVV** -\r\n",
        "I have combined both these features, if there is match I have assigned a True value, otherwise False, assuming that a mismatch in enteredCVV and cardCVV would be more prone to a fraudulent case"
      ]
    },
    {
      "cell_type": "code",
      "metadata": {
        "id": "NV6EdxadMgNs"
      },
      "source": [
        "df_copy['CVVMatched'] = np.where(df_copy.loc[:,'cardCVV'] == df_copy.loc[:,'enteredCVV'], 1, 0)"
      ],
      "execution_count": null,
      "outputs": []
    },
    {
      "cell_type": "markdown",
      "metadata": {
        "id": "XeavO85GCKtn"
      },
      "source": [
        "Handling Missing Values - acqCountry, posEntryCode, posConditionCode, merchantCountryCode\r\n",
        "There are several entries as empty string in all these cases, so I have replaced empty string with \"Others\" in case of  acqCountry, merchantCountryCode and in posEntryCode, posConditionCode with a random number"
      ]
    },
    {
      "cell_type": "code",
      "metadata": {
        "id": "riRl8HG0Mek3"
      },
      "source": [
        "temp = df_copy[df_copy.isFraud == True].groupby(by = 'acqCountry').agg({'isFraud':'count'}).sort_values(by = 'isFraud',ascending=False)\r\n",
        "d = {}\r\n",
        "for i in temp.index.to_list():\r\n",
        "  if i is \"\":\r\n",
        "    d[i] = 'others'\r\n",
        "  else:\r\n",
        "    d[i] = i\r\n",
        "df_copy['acqCountry'] = df_copy['acqCountry'].apply(lambda x: d.get(x,'others'))\r\n",
        "\r\n",
        "temp = df_copy[df_copy.isFraud == True].groupby(by = 'posEntryMode').agg({'isFraud':'count'}).sort_values(by = 'isFraud',ascending=False)\r\n",
        "d = {}\r\n",
        "for i in temp.index.to_list():\r\n",
        "  if i is \"\":\r\n",
        "    d[i] = '99'\r\n",
        "  else:\r\n",
        "    d[i] = i\r\n",
        "df_copy['posEntryMode'] = df_copy['posEntryMode'].apply(lambda x: d.get(x,'others'))\r\n",
        "\r\n",
        "temp = df_copy[df_copy.isFraud == True].groupby(by = 'posConditionCode').agg({'isFraud':'count'}).sort_values(by = 'isFraud',ascending=False)\r\n",
        "d = {}\r\n",
        "for i in temp.index.to_list():\r\n",
        "  if i is \"\":\r\n",
        "    d[i] = '100'\r\n",
        "  else:\r\n",
        "    d[i] = i\r\n",
        "df_copy['posConditionCode'] = df_copy['posConditionCode'].apply(lambda x: d.get(x,'others'))\r\n",
        "\r\n",
        "temp = df_copy[df_copy.isFraud == True].groupby(by = 'merchantCountryCode').agg({'isFraud':'count'}).sort_values(by = 'isFraud',ascending=False)\r\n",
        "d = {}\r\n",
        "for i in temp.index.to_list():\r\n",
        "  if i is \"\":\r\n",
        "    d[i] = 'others'\r\n",
        "  else:\r\n",
        "    d[i] = i\r\n",
        "df_copy['merchantCountryCode'] = df_copy['merchantCountryCode'].apply(lambda x: d.get(x,'others'))\r\n"
      ],
      "execution_count": null,
      "outputs": []
    },
    {
      "cell_type": "code",
      "metadata": {
        "colab": {
          "base_uri": "https://localhost:8080/",
          "height": 232
        },
        "id": "k2UXOI6VPWn2",
        "outputId": "af764da9-c581-4ad1-f82d-930ec6f032ea"
      },
      "source": [
        "df_copy.head()"
      ],
      "execution_count": null,
      "outputs": [
        {
          "output_type": "execute_result",
          "data": {
            "text/html": [
              "<div>\n",
              "<style scoped>\n",
              "    .dataframe tbody tr th:only-of-type {\n",
              "        vertical-align: middle;\n",
              "    }\n",
              "\n",
              "    .dataframe tbody tr th {\n",
              "        vertical-align: top;\n",
              "    }\n",
              "\n",
              "    .dataframe thead th {\n",
              "        text-align: right;\n",
              "    }\n",
              "</style>\n",
              "<table border=\"1\" class=\"dataframe\">\n",
              "  <thead>\n",
              "    <tr style=\"text-align: right;\">\n",
              "      <th></th>\n",
              "      <th>accountNumber</th>\n",
              "      <th>customerId</th>\n",
              "      <th>creditLimit</th>\n",
              "      <th>availableMoney</th>\n",
              "      <th>transactionDateTime</th>\n",
              "      <th>transactionAmount</th>\n",
              "      <th>merchantName</th>\n",
              "      <th>acqCountry</th>\n",
              "      <th>merchantCountryCode</th>\n",
              "      <th>posEntryMode</th>\n",
              "      <th>posConditionCode</th>\n",
              "      <th>merchantCategoryCode</th>\n",
              "      <th>currentExpDate</th>\n",
              "      <th>accountOpenDate</th>\n",
              "      <th>dateOfLastAddressChange</th>\n",
              "      <th>cardCVV</th>\n",
              "      <th>enteredCVV</th>\n",
              "      <th>cardLast4Digits</th>\n",
              "      <th>transactionType</th>\n",
              "      <th>currentBalance</th>\n",
              "      <th>cardPresent</th>\n",
              "      <th>expirationDateKeyInMatch</th>\n",
              "      <th>isFraud</th>\n",
              "      <th>transBinned</th>\n",
              "      <th>mutliSwipedTransaction</th>\n",
              "      <th>transactionHour</th>\n",
              "      <th>hourBinned</th>\n",
              "      <th>merchantMapped</th>\n",
              "      <th>merchantCategoryMapped</th>\n",
              "      <th>accountLenght</th>\n",
              "      <th>CVVMatched</th>\n",
              "    </tr>\n",
              "  </thead>\n",
              "  <tbody>\n",
              "    <tr>\n",
              "      <th>640789</th>\n",
              "      <td>419104777</td>\n",
              "      <td>419104777</td>\n",
              "      <td>50000</td>\n",
              "      <td>50000.0</td>\n",
              "      <td>2016-01-01 00:01:02</td>\n",
              "      <td>44.09</td>\n",
              "      <td>Washington Post</td>\n",
              "      <td>US</td>\n",
              "      <td>US</td>\n",
              "      <td>09</td>\n",
              "      <td>01</td>\n",
              "      <td>subscriptions</td>\n",
              "      <td>2028</td>\n",
              "      <td>2015</td>\n",
              "      <td>2015-05-30</td>\n",
              "      <td>837</td>\n",
              "      <td>837</td>\n",
              "      <td>5010</td>\n",
              "      <td>PURCHASE</td>\n",
              "      <td>0.0</td>\n",
              "      <td>False</td>\n",
              "      <td>False</td>\n",
              "      <td>False</td>\n",
              "      <td>1.0</td>\n",
              "      <td>False</td>\n",
              "      <td>0</td>\n",
              "      <td>0.0</td>\n",
              "      <td>others</td>\n",
              "      <td>subscriptions</td>\n",
              "      <td>13</td>\n",
              "      <td>1</td>\n",
              "    </tr>\n",
              "    <tr>\n",
              "      <th>28946</th>\n",
              "      <td>674577133</td>\n",
              "      <td>674577133</td>\n",
              "      <td>5000</td>\n",
              "      <td>5000.0</td>\n",
              "      <td>2016-01-01 00:01:44</td>\n",
              "      <td>329.57</td>\n",
              "      <td>staples.com</td>\n",
              "      <td>US</td>\n",
              "      <td>US</td>\n",
              "      <td>09</td>\n",
              "      <td>08</td>\n",
              "      <td>online_retail</td>\n",
              "      <td>2024</td>\n",
              "      <td>2015</td>\n",
              "      <td>2015-08-19</td>\n",
              "      <td>430</td>\n",
              "      <td>430</td>\n",
              "      <td>1693</td>\n",
              "      <td>PURCHASE</td>\n",
              "      <td>0.0</td>\n",
              "      <td>False</td>\n",
              "      <td>False</td>\n",
              "      <td>False</td>\n",
              "      <td>3.0</td>\n",
              "      <td>False</td>\n",
              "      <td>0</td>\n",
              "      <td>0.0</td>\n",
              "      <td>staples.com</td>\n",
              "      <td>online_retail</td>\n",
              "      <td>9</td>\n",
              "      <td>1</td>\n",
              "    </tr>\n",
              "    <tr>\n",
              "      <th>222211</th>\n",
              "      <td>958438658</td>\n",
              "      <td>958438658</td>\n",
              "      <td>20000</td>\n",
              "      <td>20000.0</td>\n",
              "      <td>2016-01-01 00:01:47</td>\n",
              "      <td>164.57</td>\n",
              "      <td>cheapfast.com</td>\n",
              "      <td>US</td>\n",
              "      <td>US</td>\n",
              "      <td>05</td>\n",
              "      <td>01</td>\n",
              "      <td>online_retail</td>\n",
              "      <td>2023</td>\n",
              "      <td>2013</td>\n",
              "      <td>2013-07-20</td>\n",
              "      <td>445</td>\n",
              "      <td>445</td>\n",
              "      <td>2062</td>\n",
              "      <td>PURCHASE</td>\n",
              "      <td>0.0</td>\n",
              "      <td>False</td>\n",
              "      <td>False</td>\n",
              "      <td>False</td>\n",
              "      <td>2.0</td>\n",
              "      <td>False</td>\n",
              "      <td>0</td>\n",
              "      <td>0.0</td>\n",
              "      <td>cheapfast.com</td>\n",
              "      <td>online_retail</td>\n",
              "      <td>10</td>\n",
              "      <td>1</td>\n",
              "    </tr>\n",
              "    <tr>\n",
              "      <th>470320</th>\n",
              "      <td>851126461</td>\n",
              "      <td>851126461</td>\n",
              "      <td>10000</td>\n",
              "      <td>10000.0</td>\n",
              "      <td>2016-01-01 00:02:04</td>\n",
              "      <td>122.83</td>\n",
              "      <td>discount.com</td>\n",
              "      <td>US</td>\n",
              "      <td>US</td>\n",
              "      <td>02</td>\n",
              "      <td>08</td>\n",
              "      <td>online_retail</td>\n",
              "      <td>2025</td>\n",
              "      <td>2014</td>\n",
              "      <td>2014-10-18</td>\n",
              "      <td>667</td>\n",
              "      <td>667</td>\n",
              "      <td>7359</td>\n",
              "      <td>PURCHASE</td>\n",
              "      <td>0.0</td>\n",
              "      <td>False</td>\n",
              "      <td>False</td>\n",
              "      <td>False</td>\n",
              "      <td>2.0</td>\n",
              "      <td>False</td>\n",
              "      <td>0</td>\n",
              "      <td>0.0</td>\n",
              "      <td>others</td>\n",
              "      <td>online_retail</td>\n",
              "      <td>11</td>\n",
              "      <td>1</td>\n",
              "    </tr>\n",
              "    <tr>\n",
              "      <th>704106</th>\n",
              "      <td>148963316</td>\n",
              "      <td>148963316</td>\n",
              "      <td>2500</td>\n",
              "      <td>2500.0</td>\n",
              "      <td>2016-01-01 00:02:19</td>\n",
              "      <td>0.00</td>\n",
              "      <td>Fast Repair</td>\n",
              "      <td>US</td>\n",
              "      <td>US</td>\n",
              "      <td>05</td>\n",
              "      <td>01</td>\n",
              "      <td>auto</td>\n",
              "      <td>2026</td>\n",
              "      <td>2013</td>\n",
              "      <td>2013-12-12</td>\n",
              "      <td>542</td>\n",
              "      <td>542</td>\n",
              "      <td>1785</td>\n",
              "      <td>ADDRESS_VERIFICATION</td>\n",
              "      <td>0.0</td>\n",
              "      <td>False</td>\n",
              "      <td>False</td>\n",
              "      <td>False</td>\n",
              "      <td>0.0</td>\n",
              "      <td>False</td>\n",
              "      <td>0</td>\n",
              "      <td>0.0</td>\n",
              "      <td>others</td>\n",
              "      <td>auto</td>\n",
              "      <td>13</td>\n",
              "      <td>1</td>\n",
              "    </tr>\n",
              "  </tbody>\n",
              "</table>\n",
              "</div>"
            ],
            "text/plain": [
              "        accountNumber  customerId  ...  accountLenght  CVVMatched\n",
              "640789      419104777   419104777  ...             13           1\n",
              "28946       674577133   674577133  ...              9           1\n",
              "222211      958438658   958438658  ...             10           1\n",
              "470320      851126461   851126461  ...             11           1\n",
              "704106      148963316   148963316  ...             13           1\n",
              "\n",
              "[5 rows x 31 columns]"
            ]
          },
          "metadata": {
            "tags": []
          },
          "execution_count": 26
        }
      ]
    },
    {
      "cell_type": "markdown",
      "metadata": {
        "id": "ZTLbcW06DfC7"
      },
      "source": [
        "Dropping Redundant Columns-- \r\n",
        "\r\n",
        "We have performed feature engineering for various columns and thus we will be dropping all the columns which are redundant. Also, I plan to drop columns customerID, accountNumber, cardLast4Digits, dateOfLastAddressChange as I believe the features are unique and are significant to differentiate a card but not a particular transaction as fraudulent or non-fraudulent"
      ]
    },
    {
      "cell_type": "code",
      "metadata": {
        "id": "mldWObn8PWgI"
      },
      "source": [
        "df_copy = df_copy.drop(['accountNumber','customerId','cardLast4Digits','dateOfLastAddressChange', 'cardCVV', 'enteredCVV','transactionDateTime','transactionAmount','merchantName','currentExpDate','accountOpenDate','merchantCategoryCode'], axis = 1)"
      ],
      "execution_count": null,
      "outputs": []
    },
    {
      "cell_type": "markdown",
      "metadata": {
        "id": "tyMNooXbEJM6"
      },
      "source": [
        "After the Feature Engineering we have following features. Below is the detailed list of all the new feature and there datatypes."
      ]
    },
    {
      "cell_type": "code",
      "metadata": {
        "colab": {
          "base_uri": "https://localhost:8080/"
        },
        "id": "ncAdh8MNPWXj",
        "outputId": "40a2cfa5-536c-40d0-9c62-544ebf7b26ff"
      },
      "source": [
        "df_copy.dtypes , df_copy.columns, df_copy.shape"
      ],
      "execution_count": null,
      "outputs": [
        {
          "output_type": "execute_result",
          "data": {
            "text/plain": [
              "(creditLimit                   int64\n",
              " availableMoney              float64\n",
              " acqCountry                   object\n",
              " merchantCountryCode          object\n",
              " posEntryMode                 object\n",
              " posConditionCode             object\n",
              " transactionType              object\n",
              " currentBalance              float64\n",
              " cardPresent                    bool\n",
              " expirationDateKeyInMatch       bool\n",
              " isFraud                        bool\n",
              " transBinned                 float64\n",
              " mutliSwipedTransaction         bool\n",
              " transactionHour               int64\n",
              " hourBinned                  float64\n",
              " merchantMapped               object\n",
              " merchantCategoryMapped       object\n",
              " accountLenght                 int64\n",
              " CVVMatched                    int64\n",
              " dtype: object,\n",
              " Index(['creditLimit', 'availableMoney', 'acqCountry', 'merchantCountryCode',\n",
              "        'posEntryMode', 'posConditionCode', 'transactionType', 'currentBalance',\n",
              "        'cardPresent', 'expirationDateKeyInMatch', 'isFraud', 'transBinned',\n",
              "        'mutliSwipedTransaction', 'transactionHour', 'hourBinned',\n",
              "        'merchantMapped', 'merchantCategoryMapped', 'accountLenght',\n",
              "        'CVVMatched'],\n",
              "       dtype='object'),\n",
              " (760872, 19))"
            ]
          },
          "metadata": {
            "tags": []
          },
          "execution_count": 28
        }
      ]
    },
    {
      "cell_type": "code",
      "metadata": {
        "colab": {
          "base_uri": "https://localhost:8080/",
          "height": 215
        },
        "id": "dDTm85YBRoLD",
        "outputId": "472885c8-d048-4371-bb07-fa8945fa7fdb"
      },
      "source": [
        "df_copy.head()"
      ],
      "execution_count": null,
      "outputs": [
        {
          "output_type": "execute_result",
          "data": {
            "text/html": [
              "<div>\n",
              "<style scoped>\n",
              "    .dataframe tbody tr th:only-of-type {\n",
              "        vertical-align: middle;\n",
              "    }\n",
              "\n",
              "    .dataframe tbody tr th {\n",
              "        vertical-align: top;\n",
              "    }\n",
              "\n",
              "    .dataframe thead th {\n",
              "        text-align: right;\n",
              "    }\n",
              "</style>\n",
              "<table border=\"1\" class=\"dataframe\">\n",
              "  <thead>\n",
              "    <tr style=\"text-align: right;\">\n",
              "      <th></th>\n",
              "      <th>creditLimit</th>\n",
              "      <th>availableMoney</th>\n",
              "      <th>acqCountry</th>\n",
              "      <th>merchantCountryCode</th>\n",
              "      <th>posEntryMode</th>\n",
              "      <th>posConditionCode</th>\n",
              "      <th>transactionType</th>\n",
              "      <th>currentBalance</th>\n",
              "      <th>cardPresent</th>\n",
              "      <th>expirationDateKeyInMatch</th>\n",
              "      <th>isFraud</th>\n",
              "      <th>transBinned</th>\n",
              "      <th>mutliSwipedTransaction</th>\n",
              "      <th>transactionHour</th>\n",
              "      <th>hourBinned</th>\n",
              "      <th>merchantMapped</th>\n",
              "      <th>merchantCategoryMapped</th>\n",
              "      <th>accountLenght</th>\n",
              "      <th>CVVMatched</th>\n",
              "    </tr>\n",
              "  </thead>\n",
              "  <tbody>\n",
              "    <tr>\n",
              "      <th>640789</th>\n",
              "      <td>50000</td>\n",
              "      <td>50000.0</td>\n",
              "      <td>US</td>\n",
              "      <td>US</td>\n",
              "      <td>09</td>\n",
              "      <td>01</td>\n",
              "      <td>PURCHASE</td>\n",
              "      <td>0.0</td>\n",
              "      <td>False</td>\n",
              "      <td>False</td>\n",
              "      <td>False</td>\n",
              "      <td>1.0</td>\n",
              "      <td>False</td>\n",
              "      <td>0</td>\n",
              "      <td>0.0</td>\n",
              "      <td>others</td>\n",
              "      <td>subscriptions</td>\n",
              "      <td>13</td>\n",
              "      <td>1</td>\n",
              "    </tr>\n",
              "    <tr>\n",
              "      <th>28946</th>\n",
              "      <td>5000</td>\n",
              "      <td>5000.0</td>\n",
              "      <td>US</td>\n",
              "      <td>US</td>\n",
              "      <td>09</td>\n",
              "      <td>08</td>\n",
              "      <td>PURCHASE</td>\n",
              "      <td>0.0</td>\n",
              "      <td>False</td>\n",
              "      <td>False</td>\n",
              "      <td>False</td>\n",
              "      <td>3.0</td>\n",
              "      <td>False</td>\n",
              "      <td>0</td>\n",
              "      <td>0.0</td>\n",
              "      <td>staples.com</td>\n",
              "      <td>online_retail</td>\n",
              "      <td>9</td>\n",
              "      <td>1</td>\n",
              "    </tr>\n",
              "    <tr>\n",
              "      <th>222211</th>\n",
              "      <td>20000</td>\n",
              "      <td>20000.0</td>\n",
              "      <td>US</td>\n",
              "      <td>US</td>\n",
              "      <td>05</td>\n",
              "      <td>01</td>\n",
              "      <td>PURCHASE</td>\n",
              "      <td>0.0</td>\n",
              "      <td>False</td>\n",
              "      <td>False</td>\n",
              "      <td>False</td>\n",
              "      <td>2.0</td>\n",
              "      <td>False</td>\n",
              "      <td>0</td>\n",
              "      <td>0.0</td>\n",
              "      <td>cheapfast.com</td>\n",
              "      <td>online_retail</td>\n",
              "      <td>10</td>\n",
              "      <td>1</td>\n",
              "    </tr>\n",
              "    <tr>\n",
              "      <th>470320</th>\n",
              "      <td>10000</td>\n",
              "      <td>10000.0</td>\n",
              "      <td>US</td>\n",
              "      <td>US</td>\n",
              "      <td>02</td>\n",
              "      <td>08</td>\n",
              "      <td>PURCHASE</td>\n",
              "      <td>0.0</td>\n",
              "      <td>False</td>\n",
              "      <td>False</td>\n",
              "      <td>False</td>\n",
              "      <td>2.0</td>\n",
              "      <td>False</td>\n",
              "      <td>0</td>\n",
              "      <td>0.0</td>\n",
              "      <td>others</td>\n",
              "      <td>online_retail</td>\n",
              "      <td>11</td>\n",
              "      <td>1</td>\n",
              "    </tr>\n",
              "    <tr>\n",
              "      <th>704106</th>\n",
              "      <td>2500</td>\n",
              "      <td>2500.0</td>\n",
              "      <td>US</td>\n",
              "      <td>US</td>\n",
              "      <td>05</td>\n",
              "      <td>01</td>\n",
              "      <td>ADDRESS_VERIFICATION</td>\n",
              "      <td>0.0</td>\n",
              "      <td>False</td>\n",
              "      <td>False</td>\n",
              "      <td>False</td>\n",
              "      <td>0.0</td>\n",
              "      <td>False</td>\n",
              "      <td>0</td>\n",
              "      <td>0.0</td>\n",
              "      <td>others</td>\n",
              "      <td>auto</td>\n",
              "      <td>13</td>\n",
              "      <td>1</td>\n",
              "    </tr>\n",
              "  </tbody>\n",
              "</table>\n",
              "</div>"
            ],
            "text/plain": [
              "        creditLimit  availableMoney  ... accountLenght CVVMatched\n",
              "640789        50000         50000.0  ...            13          1\n",
              "28946          5000          5000.0  ...             9          1\n",
              "222211        20000         20000.0  ...            10          1\n",
              "470320        10000         10000.0  ...            11          1\n",
              "704106         2500          2500.0  ...            13          1\n",
              "\n",
              "[5 rows x 19 columns]"
            ]
          },
          "metadata": {
            "tags": []
          },
          "execution_count": 29
        }
      ]
    },
    {
      "cell_type": "markdown",
      "metadata": {
        "id": "4eeE3sfkIR6C"
      },
      "source": [
        "# **Label Encoding Features of Type 'object'**\r\n",
        "\r\n",
        "I used label encoding for converting the features of 'object' type to int64 type to make the features compatible to be given as an input in the model."
      ]
    },
    {
      "cell_type": "code",
      "metadata": {
        "id": "42k1WuRyRoEv"
      },
      "source": [
        "labelencoder = LabelEncoder()\r\n",
        "df_encode = pd.DataFrame({ 'acqCountry': df_copy.acqCountry,\r\n",
        "                          'merchantCountryCode': df_copy.merchantCountryCode,\r\n",
        "                          'posEntryMode':df_copy.posEntryMode,\r\n",
        "                          'posConditionCode':df_copy.posConditionCode,\r\n",
        "                          'transactionType':df_copy.transactionType,\r\n",
        "                          'cardPresent':df_copy.cardPresent,\r\n",
        "                          'expirationDateKeyInMatch':df_copy.expirationDateKeyInMatch,\r\n",
        "                          'merchantMapped':df_copy.merchantMapped,\r\n",
        "                          'merchantCategoryMapped':df_copy.merchantCategoryMapped,\r\n",
        "                          'isFraud':df_copy.isFraud\r\n",
        "    \r\n",
        "})\r\n",
        "df_encode = df_encode.apply(LabelEncoder().fit_transform)\r\n",
        "\r\n"
      ],
      "execution_count": null,
      "outputs": []
    },
    {
      "cell_type": "code",
      "metadata": {
        "id": "KzWCotxuRn8v"
      },
      "source": [
        "temp = pd.DataFrame({ 'availableMoney': df_copy.availableMoney,\r\n",
        "                          'creditLimit':df_copy.creditLimit,\r\n",
        "                          'currentBalance': df_copy.currentBalance,\r\n",
        "                          'transactionHour':df_copy.transactionHour,\r\n",
        "                          'transBinned':df_copy.transBinned,\r\n",
        "                          'accountLenght':df_copy.accountLenght,\r\n",
        "                          'CVVMatched':df_copy.CVVMatched\r\n",
        "  \r\n",
        "})\r\n",
        "df_encode = df_encode.join(temp)"
      ],
      "execution_count": null,
      "outputs": []
    },
    {
      "cell_type": "code",
      "metadata": {
        "colab": {
          "base_uri": "https://localhost:8080/",
          "height": 215
        },
        "id": "I62YtrSeRnzu",
        "outputId": "71c7acea-0254-4cd9-cf66-f25c19d2d802"
      },
      "source": [
        "df_encode.head()"
      ],
      "execution_count": null,
      "outputs": [
        {
          "output_type": "execute_result",
          "data": {
            "text/html": [
              "<div>\n",
              "<style scoped>\n",
              "    .dataframe tbody tr th:only-of-type {\n",
              "        vertical-align: middle;\n",
              "    }\n",
              "\n",
              "    .dataframe tbody tr th {\n",
              "        vertical-align: top;\n",
              "    }\n",
              "\n",
              "    .dataframe thead th {\n",
              "        text-align: right;\n",
              "    }\n",
              "</style>\n",
              "<table border=\"1\" class=\"dataframe\">\n",
              "  <thead>\n",
              "    <tr style=\"text-align: right;\">\n",
              "      <th></th>\n",
              "      <th>acqCountry</th>\n",
              "      <th>merchantCountryCode</th>\n",
              "      <th>posEntryMode</th>\n",
              "      <th>posConditionCode</th>\n",
              "      <th>transactionType</th>\n",
              "      <th>cardPresent</th>\n",
              "      <th>expirationDateKeyInMatch</th>\n",
              "      <th>merchantMapped</th>\n",
              "      <th>merchantCategoryMapped</th>\n",
              "      <th>isFraud</th>\n",
              "      <th>availableMoney</th>\n",
              "      <th>creditLimit</th>\n",
              "      <th>currentBalance</th>\n",
              "      <th>transactionHour</th>\n",
              "      <th>transBinned</th>\n",
              "      <th>accountLenght</th>\n",
              "      <th>CVVMatched</th>\n",
              "    </tr>\n",
              "  </thead>\n",
              "  <tbody>\n",
              "    <tr>\n",
              "      <th>640789</th>\n",
              "      <td>3</td>\n",
              "      <td>3</td>\n",
              "      <td>2</td>\n",
              "      <td>0</td>\n",
              "      <td>1</td>\n",
              "      <td>0</td>\n",
              "      <td>0</td>\n",
              "      <td>7</td>\n",
              "      <td>10</td>\n",
              "      <td>0</td>\n",
              "      <td>50000.0</td>\n",
              "      <td>50000</td>\n",
              "      <td>0.0</td>\n",
              "      <td>0</td>\n",
              "      <td>1.0</td>\n",
              "      <td>13</td>\n",
              "      <td>1</td>\n",
              "    </tr>\n",
              "    <tr>\n",
              "      <th>28946</th>\n",
              "      <td>3</td>\n",
              "      <td>3</td>\n",
              "      <td>2</td>\n",
              "      <td>1</td>\n",
              "      <td>1</td>\n",
              "      <td>0</td>\n",
              "      <td>0</td>\n",
              "      <td>9</td>\n",
              "      <td>7</td>\n",
              "      <td>0</td>\n",
              "      <td>5000.0</td>\n",
              "      <td>5000</td>\n",
              "      <td>0.0</td>\n",
              "      <td>0</td>\n",
              "      <td>3.0</td>\n",
              "      <td>9</td>\n",
              "      <td>1</td>\n",
              "    </tr>\n",
              "    <tr>\n",
              "      <th>222211</th>\n",
              "      <td>3</td>\n",
              "      <td>3</td>\n",
              "      <td>1</td>\n",
              "      <td>0</td>\n",
              "      <td>1</td>\n",
              "      <td>0</td>\n",
              "      <td>0</td>\n",
              "      <td>4</td>\n",
              "      <td>7</td>\n",
              "      <td>0</td>\n",
              "      <td>20000.0</td>\n",
              "      <td>20000</td>\n",
              "      <td>0.0</td>\n",
              "      <td>0</td>\n",
              "      <td>2.0</td>\n",
              "      <td>10</td>\n",
              "      <td>1</td>\n",
              "    </tr>\n",
              "    <tr>\n",
              "      <th>470320</th>\n",
              "      <td>3</td>\n",
              "      <td>3</td>\n",
              "      <td>0</td>\n",
              "      <td>1</td>\n",
              "      <td>1</td>\n",
              "      <td>0</td>\n",
              "      <td>0</td>\n",
              "      <td>7</td>\n",
              "      <td>7</td>\n",
              "      <td>0</td>\n",
              "      <td>10000.0</td>\n",
              "      <td>10000</td>\n",
              "      <td>0.0</td>\n",
              "      <td>0</td>\n",
              "      <td>2.0</td>\n",
              "      <td>11</td>\n",
              "      <td>1</td>\n",
              "    </tr>\n",
              "    <tr>\n",
              "      <th>704106</th>\n",
              "      <td>3</td>\n",
              "      <td>3</td>\n",
              "      <td>1</td>\n",
              "      <td>0</td>\n",
              "      <td>0</td>\n",
              "      <td>0</td>\n",
              "      <td>0</td>\n",
              "      <td>7</td>\n",
              "      <td>1</td>\n",
              "      <td>0</td>\n",
              "      <td>2500.0</td>\n",
              "      <td>2500</td>\n",
              "      <td>0.0</td>\n",
              "      <td>0</td>\n",
              "      <td>0.0</td>\n",
              "      <td>13</td>\n",
              "      <td>1</td>\n",
              "    </tr>\n",
              "  </tbody>\n",
              "</table>\n",
              "</div>"
            ],
            "text/plain": [
              "        acqCountry  merchantCountryCode  ...  accountLenght  CVVMatched\n",
              "640789           3                    3  ...             13           1\n",
              "28946            3                    3  ...              9           1\n",
              "222211           3                    3  ...             10           1\n",
              "470320           3                    3  ...             11           1\n",
              "704106           3                    3  ...             13           1\n",
              "\n",
              "[5 rows x 17 columns]"
            ]
          },
          "metadata": {
            "tags": []
          },
          "execution_count": 32
        }
      ]
    },
    {
      "cell_type": "markdown",
      "metadata": {
        "id": "9a6kNgOZJ4Y8"
      },
      "source": [
        "# **Splitting the dataset**\r\n",
        "\r\n",
        "We have splitted the dataset into train data and test data.\r\n",
        "\r\n",
        "The test size, I have used it 30%.\r\n",
        "\r\n",
        "Also, I have used the stratification strategy so that percent of isFraud class remains consistent in both the train as well as the test dataset."
      ]
    },
    {
      "cell_type": "code",
      "metadata": {
        "colab": {
          "base_uri": "https://localhost:8080/",
          "height": 455
        },
        "id": "gsOK0mK6w_Ts",
        "outputId": "8d94dea7-4ea9-4192-8e79-6984b5ee03ba"
      },
      "source": [
        "y = df_encode.loc[:,'isFraud']\r\n",
        "df_encode_copy = df_encode.drop(['isFraud'], axis = 1)\r\n",
        "X = df_encode_copy\r\n",
        "X_train, X_val, y_train, y_val = train_test_split(X, y, stratify= y, test_size=0.30, random_state=42)\r\n",
        "print(X_train.shape,y_train.shape)\r\n",
        "print(X_val.shape, y_val.shape)\r\n",
        "X_train = X_train.reset_index(drop =True)\r\n",
        "y_train = y_train.reset_index(drop = True)\r\n",
        "X_val = X_val.reset_index(drop = True)\r\n",
        "y_val = y_val.reset_index(drop = True)\r\n",
        "X_train\r\n"
      ],
      "execution_count": null,
      "outputs": [
        {
          "output_type": "stream",
          "text": [
            "(532610, 16) (532610,)\n",
            "(228262, 16) (228262,)\n"
          ],
          "name": "stdout"
        },
        {
          "output_type": "execute_result",
          "data": {
            "text/html": [
              "<div>\n",
              "<style scoped>\n",
              "    .dataframe tbody tr th:only-of-type {\n",
              "        vertical-align: middle;\n",
              "    }\n",
              "\n",
              "    .dataframe tbody tr th {\n",
              "        vertical-align: top;\n",
              "    }\n",
              "\n",
              "    .dataframe thead th {\n",
              "        text-align: right;\n",
              "    }\n",
              "</style>\n",
              "<table border=\"1\" class=\"dataframe\">\n",
              "  <thead>\n",
              "    <tr style=\"text-align: right;\">\n",
              "      <th></th>\n",
              "      <th>acqCountry</th>\n",
              "      <th>merchantCountryCode</th>\n",
              "      <th>posEntryMode</th>\n",
              "      <th>posConditionCode</th>\n",
              "      <th>transactionType</th>\n",
              "      <th>cardPresent</th>\n",
              "      <th>expirationDateKeyInMatch</th>\n",
              "      <th>merchantMapped</th>\n",
              "      <th>merchantCategoryMapped</th>\n",
              "      <th>availableMoney</th>\n",
              "      <th>creditLimit</th>\n",
              "      <th>currentBalance</th>\n",
              "      <th>transactionHour</th>\n",
              "      <th>transBinned</th>\n",
              "      <th>accountLenght</th>\n",
              "      <th>CVVMatched</th>\n",
              "    </tr>\n",
              "  </thead>\n",
              "  <tbody>\n",
              "    <tr>\n",
              "      <th>0</th>\n",
              "      <td>3</td>\n",
              "      <td>3</td>\n",
              "      <td>1</td>\n",
              "      <td>3</td>\n",
              "      <td>1</td>\n",
              "      <td>1</td>\n",
              "      <td>0</td>\n",
              "      <td>7</td>\n",
              "      <td>8</td>\n",
              "      <td>5721.62</td>\n",
              "      <td>7500</td>\n",
              "      <td>1778.38</td>\n",
              "      <td>12</td>\n",
              "      <td>3.0</td>\n",
              "      <td>15</td>\n",
              "      <td>1</td>\n",
              "    </tr>\n",
              "    <tr>\n",
              "      <th>1</th>\n",
              "      <td>3</td>\n",
              "      <td>3</td>\n",
              "      <td>1</td>\n",
              "      <td>0</td>\n",
              "      <td>1</td>\n",
              "      <td>1</td>\n",
              "      <td>0</td>\n",
              "      <td>7</td>\n",
              "      <td>10</td>\n",
              "      <td>2406.30</td>\n",
              "      <td>2500</td>\n",
              "      <td>93.70</td>\n",
              "      <td>7</td>\n",
              "      <td>3.0</td>\n",
              "      <td>16</td>\n",
              "      <td>1</td>\n",
              "    </tr>\n",
              "    <tr>\n",
              "      <th>2</th>\n",
              "      <td>3</td>\n",
              "      <td>3</td>\n",
              "      <td>2</td>\n",
              "      <td>0</td>\n",
              "      <td>0</td>\n",
              "      <td>0</td>\n",
              "      <td>0</td>\n",
              "      <td>7</td>\n",
              "      <td>7</td>\n",
              "      <td>373.55</td>\n",
              "      <td>500</td>\n",
              "      <td>126.45</td>\n",
              "      <td>9</td>\n",
              "      <td>0.0</td>\n",
              "      <td>14</td>\n",
              "      <td>1</td>\n",
              "    </tr>\n",
              "    <tr>\n",
              "      <th>3</th>\n",
              "      <td>3</td>\n",
              "      <td>3</td>\n",
              "      <td>2</td>\n",
              "      <td>0</td>\n",
              "      <td>1</td>\n",
              "      <td>1</td>\n",
              "      <td>0</td>\n",
              "      <td>7</td>\n",
              "      <td>2</td>\n",
              "      <td>4891.51</td>\n",
              "      <td>15000</td>\n",
              "      <td>10108.49</td>\n",
              "      <td>4</td>\n",
              "      <td>3.0</td>\n",
              "      <td>10</td>\n",
              "      <td>1</td>\n",
              "    </tr>\n",
              "    <tr>\n",
              "      <th>4</th>\n",
              "      <td>3</td>\n",
              "      <td>3</td>\n",
              "      <td>2</td>\n",
              "      <td>1</td>\n",
              "      <td>1</td>\n",
              "      <td>0</td>\n",
              "      <td>0</td>\n",
              "      <td>7</td>\n",
              "      <td>10</td>\n",
              "      <td>180.18</td>\n",
              "      <td>500</td>\n",
              "      <td>319.82</td>\n",
              "      <td>17</td>\n",
              "      <td>1.0</td>\n",
              "      <td>10</td>\n",
              "      <td>1</td>\n",
              "    </tr>\n",
              "    <tr>\n",
              "      <th>...</th>\n",
              "      <td>...</td>\n",
              "      <td>...</td>\n",
              "      <td>...</td>\n",
              "      <td>...</td>\n",
              "      <td>...</td>\n",
              "      <td>...</td>\n",
              "      <td>...</td>\n",
              "      <td>...</td>\n",
              "      <td>...</td>\n",
              "      <td>...</td>\n",
              "      <td>...</td>\n",
              "      <td>...</td>\n",
              "      <td>...</td>\n",
              "      <td>...</td>\n",
              "      <td>...</td>\n",
              "      <td>...</td>\n",
              "    </tr>\n",
              "    <tr>\n",
              "      <th>532605</th>\n",
              "      <td>3</td>\n",
              "      <td>3</td>\n",
              "      <td>1</td>\n",
              "      <td>0</td>\n",
              "      <td>1</td>\n",
              "      <td>0</td>\n",
              "      <td>0</td>\n",
              "      <td>4</td>\n",
              "      <td>7</td>\n",
              "      <td>11447.24</td>\n",
              "      <td>15000</td>\n",
              "      <td>3552.76</td>\n",
              "      <td>12</td>\n",
              "      <td>2.0</td>\n",
              "      <td>18</td>\n",
              "      <td>1</td>\n",
              "    </tr>\n",
              "    <tr>\n",
              "      <th>532606</th>\n",
              "      <td>3</td>\n",
              "      <td>3</td>\n",
              "      <td>2</td>\n",
              "      <td>1</td>\n",
              "      <td>1</td>\n",
              "      <td>1</td>\n",
              "      <td>0</td>\n",
              "      <td>7</td>\n",
              "      <td>2</td>\n",
              "      <td>674.43</td>\n",
              "      <td>5000</td>\n",
              "      <td>4325.57</td>\n",
              "      <td>11</td>\n",
              "      <td>3.0</td>\n",
              "      <td>9</td>\n",
              "      <td>1</td>\n",
              "    </tr>\n",
              "    <tr>\n",
              "      <th>532607</th>\n",
              "      <td>3</td>\n",
              "      <td>3</td>\n",
              "      <td>2</td>\n",
              "      <td>0</td>\n",
              "      <td>1</td>\n",
              "      <td>0</td>\n",
              "      <td>0</td>\n",
              "      <td>7</td>\n",
              "      <td>3</td>\n",
              "      <td>654.59</td>\n",
              "      <td>2500</td>\n",
              "      <td>1845.41</td>\n",
              "      <td>3</td>\n",
              "      <td>1.0</td>\n",
              "      <td>11</td>\n",
              "      <td>1</td>\n",
              "    </tr>\n",
              "    <tr>\n",
              "      <th>532608</th>\n",
              "      <td>3</td>\n",
              "      <td>3</td>\n",
              "      <td>2</td>\n",
              "      <td>0</td>\n",
              "      <td>1</td>\n",
              "      <td>1</td>\n",
              "      <td>0</td>\n",
              "      <td>7</td>\n",
              "      <td>2</td>\n",
              "      <td>3310.15</td>\n",
              "      <td>5000</td>\n",
              "      <td>1689.85</td>\n",
              "      <td>18</td>\n",
              "      <td>0.0</td>\n",
              "      <td>5</td>\n",
              "      <td>1</td>\n",
              "    </tr>\n",
              "    <tr>\n",
              "      <th>532609</th>\n",
              "      <td>3</td>\n",
              "      <td>3</td>\n",
              "      <td>1</td>\n",
              "      <td>0</td>\n",
              "      <td>1</td>\n",
              "      <td>0</td>\n",
              "      <td>0</td>\n",
              "      <td>7</td>\n",
              "      <td>6</td>\n",
              "      <td>1490.08</td>\n",
              "      <td>2500</td>\n",
              "      <td>1009.92</td>\n",
              "      <td>13</td>\n",
              "      <td>1.0</td>\n",
              "      <td>17</td>\n",
              "      <td>1</td>\n",
              "    </tr>\n",
              "  </tbody>\n",
              "</table>\n",
              "<p>532610 rows × 16 columns</p>\n",
              "</div>"
            ],
            "text/plain": [
              "        acqCountry  merchantCountryCode  ...  accountLenght  CVVMatched\n",
              "0                3                    3  ...             15           1\n",
              "1                3                    3  ...             16           1\n",
              "2                3                    3  ...             14           1\n",
              "3                3                    3  ...             10           1\n",
              "4                3                    3  ...             10           1\n",
              "...            ...                  ...  ...            ...         ...\n",
              "532605           3                    3  ...             18           1\n",
              "532606           3                    3  ...              9           1\n",
              "532607           3                    3  ...             11           1\n",
              "532608           3                    3  ...              5           1\n",
              "532609           3                    3  ...             17           1\n",
              "\n",
              "[532610 rows x 16 columns]"
            ]
          },
          "metadata": {
            "tags": []
          },
          "execution_count": 33
        }
      ]
    },
    {
      "cell_type": "markdown",
      "metadata": {
        "id": "7xE2fHQoKaar"
      },
      "source": [
        "# **Baseline Classification Model**\r\n",
        "\r\n",
        "I have used typically two standard classification model.\r\n",
        "\r\n",
        "\r\n",
        "1.   Logistic Regression\r\n",
        "2.   Random Forest\r\n",
        "\r\n",
        "Our goal is to predict the isFraud class, and we will observe the classification reports to evaluate our results."
      ]
    },
    {
      "cell_type": "code",
      "metadata": {
        "id": "_mFvIknS4AXo"
      },
      "source": [
        "def random_forest(train_x, train_y,test_x, test_y):\r\n",
        "  clf = RandomForestClassifier(n_estimators = 10, max_depth = 10, random_state=0)\r\n",
        "  clf.fit(train_x,train_y)\r\n",
        "  print(classification_report(test_y, clf.predict(test_x)))\r\n",
        "  print(confusion_matrix(test_y, clf.predict(test_x)))"
      ],
      "execution_count": null,
      "outputs": []
    },
    {
      "cell_type": "code",
      "metadata": {
        "colab": {
          "base_uri": "https://localhost:8080/"
        },
        "id": "JIZfQduxK5DF",
        "outputId": "3870abf8-0988-4cc0-cfc0-8b7a9066eb53"
      },
      "source": [
        "print(random_forest(X, y, X_val, y_val))"
      ],
      "execution_count": null,
      "outputs": [
        {
          "output_type": "stream",
          "text": [
            "              precision    recall  f1-score   support\n",
            "\n",
            "           0       0.98      1.00      0.99    224661\n",
            "           1       1.00      0.00      0.01      3601\n",
            "\n",
            "    accuracy                           0.98    228262\n",
            "   macro avg       0.99      0.50      0.50    228262\n",
            "weighted avg       0.98      0.98      0.98    228262\n",
            "\n",
            "[[224661      0]\n",
            " [  3588     13]]\n",
            "None\n"
          ],
          "name": "stdout"
        }
      ]
    },
    {
      "cell_type": "code",
      "metadata": {
        "id": "gXS9biv2H91-"
      },
      "source": [
        "# fit a logistic regression model to the data\r\n",
        "def logistic_regression(train_x, train_y,test_x, test_y):\r\n",
        "  model = LogisticRegression(max_iter = 120, random_state= 42, class_weight='auto')\r\n",
        "  model.fit(train_x, train_y)\r\n",
        "  print(model)\r\n",
        "  # make predictions\r\n",
        "  expected = test_y\r\n",
        "  predicted = model.predict(test_x)\r\n",
        "  # summarize the fit of the model\r\n",
        "  print(classification_report(expected, predicted))\r\n",
        "  print(confusion_matrix(expected, predicted))"
      ],
      "execution_count": null,
      "outputs": []
    },
    {
      "cell_type": "code",
      "metadata": {
        "colab": {
          "base_uri": "https://localhost:8080/"
        },
        "id": "GT-9820iK-br",
        "outputId": "f2fb9a1e-9296-4946-e0df-f21764717ac7"
      },
      "source": [
        "print(logistic_regression(X, y, X_val, y_val))"
      ],
      "execution_count": null,
      "outputs": [
        {
          "output_type": "stream",
          "text": [
            "LogisticRegression(C=1.0, class_weight='auto', dual=False, fit_intercept=True,\n",
            "                   intercept_scaling=1, l1_ratio=None, max_iter=120,\n",
            "                   multi_class='auto', n_jobs=None, penalty='l2',\n",
            "                   random_state=42, solver='lbfgs', tol=0.0001, verbose=0,\n",
            "                   warm_start=False)\n"
          ],
          "name": "stdout"
        },
        {
          "output_type": "stream",
          "text": [
            "/usr/local/lib/python3.6/dist-packages/sklearn/metrics/_classification.py:1272: UndefinedMetricWarning: Precision and F-score are ill-defined and being set to 0.0 in labels with no predicted samples. Use `zero_division` parameter to control this behavior.\n",
            "  _warn_prf(average, modifier, msg_start, len(result))\n"
          ],
          "name": "stderr"
        },
        {
          "output_type": "stream",
          "text": [
            "              precision    recall  f1-score   support\n",
            "\n",
            "           0       0.98      1.00      0.99    224661\n",
            "           1       0.00      0.00      0.00      3601\n",
            "\n",
            "    accuracy                           0.98    228262\n",
            "   macro avg       0.49      0.50      0.50    228262\n",
            "weighted avg       0.97      0.98      0.98    228262\n",
            "\n",
            "[[224661      0]\n",
            " [  3601      0]]\n",
            "None\n"
          ],
          "name": "stdout"
        }
      ]
    },
    {
      "cell_type": "markdown",
      "metadata": {
        "id": "ooX_JoOuNeAn"
      },
      "source": [
        "From the above two models we observe the following,\r\n",
        "\r\n",
        "\r\n",
        "\r\n",
        "1.   Accuracy - For both the models, we have 0.98 as accuracy, but since we know that our class variable is highly imbalanced we can't use accuracy as the evaluation metrics.\r\n",
        "2.   Observing the confusion matrix, we see that in Random Forest, we get True Negatives, that is a fraud transaction is missclassified as non-fraud and the number is 3588 and in LR we get 0. In Fraud Detection, our goal is to either correctly maximize the prediction of Fraud Cases or either we try to reduce the True Negatives.\r\n",
        "\r\n",
        "**Observation**\r\n",
        "\r\n",
        "We will be using Random Forest as the BASELINE Model, and try to reduce the True Negatives that is try to increase the Recall in our case. In Case of Fraud Detection, Recall will be priortized over Precision as if we missclassify, a fraud transaction as non-fraud it can cause heavy loss to a consumer. Therefore,our goal is to maximize recall or either rigtly classify the fraud transaction\r\n"
      ]
    },
    {
      "cell_type": "markdown",
      "metadata": {
        "id": "ArEk7Ts5O1RY"
      },
      "source": [
        "**For Solving the Imbalance Problem in the dataset **\r\n",
        "\r\n",
        "We try to use oversample our non-dominant class using SMOTE [Synthetic Minority Oversampling Technique] strategy.\r\n",
        "SMOTE works by utilizing a k-nearest neighbor algorithm to create synthetic data. SMOTE first start by choosing random data from the minority class, then k-nearest neighbors from the data are set. Synthetic data would then made between the random data and the randomly selected k-nearest neighbor.\r\n",
        "\r\n",
        "WE will be using the SMOTE strategy and perform oversampling in our dataset, so that both the number of fraud and non-fraud cases are same, and then try to run the Random Forest and observe the classification reports."
      ]
    },
    {
      "cell_type": "code",
      "metadata": {
        "id": "OPUzEmo74SIl"
      },
      "source": [
        "# Borderline SMOTE for Oversampling the X,y\r\n",
        "def border_smote(X_train,y_train,X_val,y_val):\r\n",
        "  bsmote = BorderlineSMOTE(random_state = 101, kind = 'borderline-1')\r\n",
        "  X_oversample, y_oversample = bsmote.fit_resample(X_train, y_train)\r\n",
        "  return X_oversample, y_oversample\r\n"
      ],
      "execution_count": null,
      "outputs": []
    },
    {
      "cell_type": "code",
      "metadata": {
        "colab": {
          "base_uri": "https://localhost:8080/"
        },
        "id": "GEeHZ2F0K0-K",
        "outputId": "4a76cfb7-dbc2-4905-d7b9-49900e3e864b"
      },
      "source": [
        "X_oversample, y_oversample = border_smote(X_train,y_train,X_val,y_val)\r\n",
        "print(random_forest(X_oversample, y_oversample, X_val, y_val))"
      ],
      "execution_count": null,
      "outputs": [
        {
          "output_type": "stream",
          "text": [
            "/usr/local/lib/python3.6/dist-packages/sklearn/utils/deprecation.py:87: FutureWarning: Function safe_indexing is deprecated; safe_indexing is deprecated in version 0.22 and will be removed in version 0.24.\n",
            "  warnings.warn(msg, category=FutureWarning)\n",
            "/usr/local/lib/python3.6/dist-packages/sklearn/utils/deprecation.py:87: FutureWarning: Function safe_indexing is deprecated; safe_indexing is deprecated in version 0.22 and will be removed in version 0.24.\n",
            "  warnings.warn(msg, category=FutureWarning)\n",
            "/usr/local/lib/python3.6/dist-packages/sklearn/utils/deprecation.py:87: FutureWarning: Function safe_indexing is deprecated; safe_indexing is deprecated in version 0.22 and will be removed in version 0.24.\n",
            "  warnings.warn(msg, category=FutureWarning)\n"
          ],
          "name": "stderr"
        },
        {
          "output_type": "stream",
          "text": [
            "              precision    recall  f1-score   support\n",
            "\n",
            "           0       0.99      0.96      0.97    224661\n",
            "           1       0.07      0.18      0.10      3601\n",
            "\n",
            "    accuracy                           0.95    228262\n",
            "   macro avg       0.53      0.57      0.54    228262\n",
            "weighted avg       0.97      0.95      0.96    228262\n",
            "\n",
            "[[216126   8535]\n",
            " [  2942    659]]\n",
            "None\n"
          ],
          "name": "stdout"
        }
      ]
    },
    {
      "cell_type": "markdown",
      "metadata": {
        "id": "Guw22gigS5WM"
      },
      "source": [
        "Results after Oversamling from BorderlineSMOTE, we significantly reduced the the number of True Negatives as they were 3588 earlier, with BaseLine Random Forest which changed to 2942 with SMote-RandomForest. Also, we see a significant increase in correctly classified Fraudulent cases which changed from 13 to 659. \r\n",
        "\r\n",
        "We can say that, this oversampling technique did show some significant result as we see that recall 0.0 increased to 0.18, which is a significant result given the imbalance in the dataset."
      ]
    },
    {
      "cell_type": "markdown",
      "metadata": {
        "id": "qQl1b7wgYgsE"
      },
      "source": [
        "\r\n",
        "\r\n",
        "*   **Conclusion**\r\n",
        "\r\n",
        "\r\n",
        "> The dataset is a typical classification problem with class Imbalance. The baseline model Random Forest gave poor results, as there are very less records for IsFraud class. But, after applying the oversampling with SMOTE, we observe a significant increase in the correct prediction of Fraud as well as the increase in Recall. \r\n",
        "\r\n",
        "> We are here analyzing the Recall metrics as in Fraud Detection, we can't ignore the case when a Fraud transaction is missclassified as non-fraud, as that can incur huge amount of loss and customer dissatisfaction as well.\r\n",
        "\r\n",
        "> Therefore, we plan to keep the True Negatives low and thus work on the recall metrics, and thus recall and F1 score is used as our evaluation metrics.\r\n",
        "\r\n",
        "> I was significantly able to improve upon the Baseline Model as recall and F1 score for BaselineModel was 0.0 and with SMOTE-RandomForest we were able to achieve, significantly 0.18 as recall and 0.10 and F1 score. There was a significant improvent in the Confusion metrics as well, as compared to the baseline as in Baseline were able to predict only 13 Fraud cases correctly, whereas in SMOTE-RandomForest we were able to correctly classify 659 Fraud Cases correctly.\r\n",
        "\r\n",
        "\r\n",
        "\r\n",
        "*   **Future Work**\r\n",
        "\r\n",
        "\r\n",
        "> We know that our dataset contains a lot of columns of type 'object', we can perform statistical tests like chi-square analysis for those columns. WE can then formulate various bins and use those columns more significantly.\r\n",
        "\r\n",
        "> In transactional dataset, we can observe the information values and weight of evidences for various columns with respect to the class variable and perform appropriate feature engineering, I think that would be very helpful for better results.\r\n",
        "\r\n",
        "> Modeling -- We could also use One-class SVM basically treating the problem as an anomaly-detection problem i.e an unsupervised problem and train our model only with only the non-fraud class. We can then perform classification over the test data. We will observe that all the fraud transactions will be then considered as an outlier and model will have the better ability to correctly classify them.\r\n",
        "\r\n",
        "> Weighted SVM model by assigning more weight to the less-dominant class, can also help for better classification results.\r\n",
        "\r\n",
        "\r\n",
        "\r\n",
        "\r\n",
        "\r\n",
        "\r\n"
      ]
    },
    {
      "cell_type": "code",
      "metadata": {
        "id": "ws4YNoERf99W"
      },
      "source": [
        ""
      ],
      "execution_count": null,
      "outputs": []
    }
  ]
}